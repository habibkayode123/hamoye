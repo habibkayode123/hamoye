{
 "cells": [
  {
   "cell_type": "code",
   "execution_count": 3,
   "metadata": {},
   "outputs": [],
   "source": [
    "import pandas as pd\n",
    "import numpy as np\n",
    "from sklearn.preprocessing import MinMaxScaler\n",
    "from sklearn.metrics import mean_squared_error,r2_score,mean_absolute_error\n",
    "from sklearn.linear_model import Lasso,Ridge,LinearRegression\n",
    "from sklearn.model_selection import train_test_split"
   ]
  },
  {
   "cell_type": "code",
   "execution_count": 5,
   "metadata": {},
   "outputs": [],
   "source": [
    "energy = pd.read_csv(\"energydata_complete.csv\",parse_dates= ['date'])\n",
    "energy.drop(['date','lights'],axis = 1,inplace = True)\n",
    "def RSS(y_true,y_pred):\n",
    "    rss = np.sum(np.square(y_true - y_pred))\n",
    "    return rss"
   ]
  },
  {
   "cell_type": "code",
   "execution_count": 8,
   "metadata": {},
   "outputs": [],
   "source": [
    "scaler = MinMaxScaler()\n",
    "kk = energy.drop(['Appliances'],axis = 1)\n",
    "scaled_data = scaler.fit_transform(koko)"
   ]
  },
  {
   "cell_type": "code",
   "execution_count": 10,
   "metadata": {},
   "outputs": [],
   "source": [
    "X = scaled_data\n",
    "y = energy.Appliances\n",
    "X_train, X_test, y_train, y_test = train_test_split(X, y, test_size=0.30, random_state=42)"
   ]
  },
  {
   "cell_type": "code",
   "execution_count": 13,
   "metadata": {},
   "outputs": [],
   "source": [
    "las_lr = Lasso(alpha =0.001,random_state=42).fit(X_train,y_train)\n",
    "las_pred = lasso_lr.predict(X_test)"
   ]
  },
  {
   "cell_type": "code",
   "execution_count": 14,
   "metadata": {},
   "outputs": [
    {
     "data": {
      "text/plain": [
       "array([-4.14712394e+00,  5.90599827e+02, -2.49468798e+02, -4.84565333e+02,\n",
       "        3.10210384e+02,  1.02204611e+02,  3.03451975e+01,  2.74459046e+01,\n",
       "       -1.71187233e+01,  1.71033212e+01,  2.50080979e+02,  4.00928832e+01,\n",
       "        1.03468087e+01, -4.73890941e+01,  1.08883423e+02, -1.68695476e+02,\n",
       "       -2.02502545e+02, -4.24551004e+01, -3.32571693e+02,  7.28215443e+00,\n",
       "       -7.80003852e+01,  3.13895144e+01,  1.30783188e+01,  1.18598030e+02,\n",
       "        1.63117421e+00,  1.33691480e-15])"
      ]
     },
     "execution_count": 14,
     "metadata": {},
     "output_type": "execute_result"
    }
   ],
   "source": [
    "las_lr.coef_"
   ]
  },
  {
   "cell_type": "code",
   "execution_count": 15,
   "metadata": {},
   "outputs": [],
   "source": [
    "def prints(y_true,y_pred):\n",
    "    print('Mean absolute error : ',mean_absolute_error(y_true,y_pred))\n",
    "    print('RMSE : ', np.sqrt(mean_squared_error(y_true,y_pred)))\n",
    "    print('Sum of squared residuals(RSS) : ', RSS(y_true,y_pred))\n",
    "    print('R2_score: ',r2_score(y_true,y_pred))"
   ]
  },
  {
   "cell_type": "code",
   "execution_count": 16,
   "metadata": {},
   "outputs": [
    {
     "name": "stdout",
     "output_type": "stream",
     "text": [
      "Mean absolute error :  53.63021543531102\n",
      "RMSE :  93.6406750918551\n",
      "Sum of squared residuals(RSS) :  51918738.68344922\n",
      "R2_score:  0.14889857033860587\n"
     ]
    }
   ],
   "source": [
    "prints(y_test,lasso_pred)"
   ]
  },
  {
   "cell_type": "code",
   "execution_count": 17,
   "metadata": {},
   "outputs": [],
   "source": [
    "ridge_lr = Ridge(alpha=0.4).fit(X_train,y_train)\n",
    "ridge_pred = ridge_lr.predict(X_test)\n",
    "ridge_w = pd.DataFrame(ridge_lr.coef_,index=koko.columns,columns = ['Ridge'])"
   ]
  },
  {
   "cell_type": "code",
   "execution_count": 19,
   "metadata": {},
   "outputs": [
    {
     "name": "stdout",
     "output_type": "stream",
     "text": [
      "Mean absolute error :  53.593567049788426\n",
      "RMSE :  93.66122703951963\n",
      "Sum of squared residuals(RSS) :  51941531.09269732\n",
      "R2_score:  0.14852493545092582\n"
     ]
    }
   ],
   "source": [
    "prints(y_test,ridge_pred)"
   ]
  },
  {
   "cell_type": "code",
   "execution_count": null,
   "metadata": {},
   "outputs": [],
   "source": []
  }
 ],
 "metadata": {
  "kernelspec": {
   "display_name": "Python 3",
   "language": "python",
   "name": "python3"
  },
  "language_info": {
   "codemirror_mode": {
    "name": "ipython",
    "version": 3
   },
   "file_extension": ".py",
   "mimetype": "text/x-python",
   "name": "python",
   "nbconvert_exporter": "python",
   "pygments_lexer": "ipython3",
   "version": "3.7.4"
  }
 },
 "nbformat": 4,
 "nbformat_minor": 4
}
